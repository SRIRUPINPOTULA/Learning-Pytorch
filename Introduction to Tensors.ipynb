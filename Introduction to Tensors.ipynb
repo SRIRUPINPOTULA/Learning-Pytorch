{
 "cells": [
  {
   "cell_type": "code",
   "execution_count": 1,
   "id": "b6c136d0",
   "metadata": {},
   "outputs": [],
   "source": [
    "import torch"
   ]
  },
  {
   "cell_type": "code",
   "execution_count": 2,
   "id": "d9e6ce22",
   "metadata": {},
   "outputs": [
    {
     "name": "stdout",
     "output_type": "stream",
     "text": [
      "2.0.1\n"
     ]
    }
   ],
   "source": [
    "print(torch.__version__)"
   ]
  },
  {
   "cell_type": "code",
   "execution_count": 3,
   "id": "0de5ff31",
   "metadata": {},
   "outputs": [],
   "source": [
    "###Introduction to Tensors\n",
    "#These are the ways to represent data"
   ]
  },
  {
   "cell_type": "code",
   "execution_count": 80,
   "id": "4d056dd6",
   "metadata": {},
   "outputs": [],
   "source": [
    "##Creating Tensors"
   ]
  },
  {
   "cell_type": "code",
   "execution_count": 4,
   "id": "be068c64",
   "metadata": {},
   "outputs": [],
   "source": [
    "#scalar\n",
    "scalar = torch.tensor(7)"
   ]
  },
  {
   "cell_type": "code",
   "execution_count": 5,
   "id": "c345989c",
   "metadata": {},
   "outputs": [
    {
     "data": {
      "text/plain": [
       "tensor(7)"
      ]
     },
     "execution_count": 5,
     "metadata": {},
     "output_type": "execute_result"
    }
   ],
   "source": [
    "scalar"
   ]
  },
  {
   "cell_type": "code",
   "execution_count": 6,
   "id": "3efb67cd",
   "metadata": {},
   "outputs": [
    {
     "data": {
      "text/plain": [
       "0"
      ]
     },
     "execution_count": 6,
     "metadata": {},
     "output_type": "execute_result"
    }
   ],
   "source": [
    "#scalar attributes has no dimensions\n",
    "scalar.ndim"
   ]
  },
  {
   "cell_type": "code",
   "execution_count": 7,
   "id": "36cdaf49",
   "metadata": {},
   "outputs": [
    {
     "data": {
      "text/plain": [
       "7"
      ]
     },
     "execution_count": 7,
     "metadata": {},
     "output_type": "execute_result"
    }
   ],
   "source": [
    "#Get tensor value\n",
    "scalar.item()"
   ]
  },
  {
   "cell_type": "code",
   "execution_count": 8,
   "id": "d5f7c8c1",
   "metadata": {},
   "outputs": [
    {
     "data": {
      "text/plain": [
       "tensor([1, 1])"
      ]
     },
     "execution_count": 8,
     "metadata": {},
     "output_type": "execute_result"
    }
   ],
   "source": [
    "#Vector\n",
    "vector = torch.tensor([1,1])\n",
    "vector"
   ]
  },
  {
   "cell_type": "code",
   "execution_count": 9,
   "id": "6016c294",
   "metadata": {},
   "outputs": [
    {
     "data": {
      "text/plain": [
       "1"
      ]
     },
     "execution_count": 9,
     "metadata": {},
     "output_type": "execute_result"
    }
   ],
   "source": [
    "vector.ndim"
   ]
  },
  {
   "cell_type": "code",
   "execution_count": 10,
   "id": "6d290967",
   "metadata": {},
   "outputs": [
    {
     "data": {
      "text/plain": [
       "tensor([[1, 1],\n",
       "        [7, 7]])"
      ]
     },
     "execution_count": 10,
     "metadata": {},
     "output_type": "execute_result"
    }
   ],
   "source": [
    "#Vector\n",
    "vector = torch.tensor([[1,1],[7,7]])\n",
    "vector"
   ]
  },
  {
   "cell_type": "code",
   "execution_count": 11,
   "id": "5868e28b",
   "metadata": {},
   "outputs": [
    {
     "data": {
      "text/plain": [
       "2"
      ]
     },
     "execution_count": 11,
     "metadata": {},
     "output_type": "execute_result"
    }
   ],
   "source": [
    "vector.ndim"
   ]
  },
  {
   "cell_type": "code",
   "execution_count": 12,
   "id": "254ab58e",
   "metadata": {},
   "outputs": [
    {
     "data": {
      "text/plain": [
       "torch.Size([2, 2])"
      ]
     },
     "execution_count": 12,
     "metadata": {},
     "output_type": "execute_result"
    }
   ],
   "source": [
    "#Shape of a matrix\n",
    "vector.shape"
   ]
  },
  {
   "cell_type": "code",
   "execution_count": 13,
   "id": "e58e09c1",
   "metadata": {},
   "outputs": [
    {
     "data": {
      "text/plain": [
       "tensor([[ 1,  1],\n",
       "        [ 9, 10]])"
      ]
     },
     "execution_count": 13,
     "metadata": {},
     "output_type": "execute_result"
    }
   ],
   "source": [
    "#Matrix\n",
    "MATRIX = torch.tensor([[1,1],\n",
    "                       [9,10]])\n",
    "MATRIX"
   ]
  },
  {
   "cell_type": "code",
   "execution_count": 14,
   "id": "20018e09",
   "metadata": {},
   "outputs": [
    {
     "data": {
      "text/plain": [
       "2"
      ]
     },
     "execution_count": 14,
     "metadata": {},
     "output_type": "execute_result"
    }
   ],
   "source": [
    "MATRIX.ndim"
   ]
  },
  {
   "cell_type": "code",
   "execution_count": 15,
   "id": "ad93f136",
   "metadata": {},
   "outputs": [
    {
     "data": {
      "text/plain": [
       "torch.Size([2, 2])"
      ]
     },
     "execution_count": 15,
     "metadata": {},
     "output_type": "execute_result"
    }
   ],
   "source": [
    "MATRIX.shape"
   ]
  },
  {
   "cell_type": "code",
   "execution_count": 16,
   "id": "915b8085",
   "metadata": {},
   "outputs": [
    {
     "data": {
      "text/plain": [
       "tensor([[[1, 2, 3],\n",
       "         [3, 6, 9],\n",
       "         [2, 5, 4]]])"
      ]
     },
     "execution_count": 16,
     "metadata": {},
     "output_type": "execute_result"
    }
   ],
   "source": [
    "#TENSOR\n",
    "TENSOR = torch.tensor([[[1,2,3,],[3,6,9],[2,5,4]]])\n",
    "TENSOR"
   ]
  },
  {
   "cell_type": "code",
   "execution_count": 17,
   "id": "2a9c06dc",
   "metadata": {},
   "outputs": [
    {
     "data": {
      "text/plain": [
       "3"
      ]
     },
     "execution_count": 17,
     "metadata": {},
     "output_type": "execute_result"
    }
   ],
   "source": [
    "TENSOR.ndim"
   ]
  },
  {
   "cell_type": "code",
   "execution_count": 18,
   "id": "36e6fbc7",
   "metadata": {},
   "outputs": [
    {
     "data": {
      "text/plain": [
       "torch.Size([1, 3, 3])"
      ]
     },
     "execution_count": 18,
     "metadata": {},
     "output_type": "execute_result"
    }
   ],
   "source": [
    "TENSOR.shape"
   ]
  },
  {
   "cell_type": "code",
   "execution_count": 19,
   "id": "1edb52d4",
   "metadata": {},
   "outputs": [
    {
     "data": {
      "text/plain": [
       "tensor([[1, 2, 3],\n",
       "        [3, 6, 9],\n",
       "        [2, 5, 4]])"
      ]
     },
     "execution_count": 19,
     "metadata": {},
     "output_type": "execute_result"
    }
   ],
   "source": [
    "TENSOR[0]"
   ]
  },
  {
   "cell_type": "code",
   "execution_count": 20,
   "id": "ea7ac600",
   "metadata": {},
   "outputs": [
    {
     "ename": "SyntaxError",
     "evalue": "invalid syntax (2961472291.py, line 2)",
     "output_type": "error",
     "traceback": [
      "\u001b[0;36m  Cell \u001b[0;32mIn[20], line 2\u001b[0;36m\u001b[0m\n\u001b[0;31m    Random Tensors are important because the way many neural networks learn is that\u001b[0m\n\u001b[0m           ^\u001b[0m\n\u001b[0;31mSyntaxError\u001b[0m\u001b[0;31m:\u001b[0m invalid syntax\n"
     ]
    }
   ],
   "source": [
    "##Random Tensors\n",
    "Random Tensors are important because the way many neural networks learn is that \n",
    "they start with tensors full of random numbvers and then adjust \n",
    "random numbers to better represent the data"
   ]
  },
  {
   "cell_type": "code",
   "execution_count": 21,
   "id": "48894455",
   "metadata": {},
   "outputs": [],
   "source": [
    "###Creating a Random tensor of size (3,4)\n",
    "random_tensor = torch.rand(3,4)"
   ]
  },
  {
   "cell_type": "code",
   "execution_count": 22,
   "id": "108e8141",
   "metadata": {},
   "outputs": [
    {
     "data": {
      "text/plain": [
       "tensor([[0.9063, 0.8248, 0.7326, 0.0247],\n",
       "        [0.2363, 0.7966, 0.8700, 0.7313],\n",
       "        [0.6876, 0.9282, 0.2086, 0.5790]])"
      ]
     },
     "execution_count": 22,
     "metadata": {},
     "output_type": "execute_result"
    }
   ],
   "source": [
    "random_tensor"
   ]
  },
  {
   "cell_type": "code",
   "execution_count": 23,
   "id": "fb0adf14",
   "metadata": {},
   "outputs": [
    {
     "data": {
      "text/plain": [
       "2"
      ]
     },
     "execution_count": 23,
     "metadata": {},
     "output_type": "execute_result"
    }
   ],
   "source": [
    "random_tensor.ndim"
   ]
  },
  {
   "cell_type": "code",
   "execution_count": 24,
   "id": "70c9fcc6",
   "metadata": {},
   "outputs": [
    {
     "data": {
      "text/plain": [
       "torch.Size([3, 4])"
      ]
     },
     "execution_count": 24,
     "metadata": {},
     "output_type": "execute_result"
    }
   ],
   "source": [
    "random_tensor.shape"
   ]
  },
  {
   "cell_type": "code",
   "execution_count": 25,
   "id": "21dc15a9",
   "metadata": {},
   "outputs": [],
   "source": [
    "random_tensor = torch.rand(10,3,4)"
   ]
  },
  {
   "cell_type": "code",
   "execution_count": 26,
   "id": "e70ff87a",
   "metadata": {},
   "outputs": [
    {
     "data": {
      "text/plain": [
       "tensor([[[0.0482, 0.8461, 0.9065, 0.7975],\n",
       "         [0.5905, 0.4757, 0.5083, 0.0066],\n",
       "         [0.8402, 0.4390, 0.7781, 0.9881]],\n",
       "\n",
       "        [[0.8451, 0.9106, 0.4815, 0.8920],\n",
       "         [0.1637, 0.8710, 0.6632, 0.3354],\n",
       "         [0.5111, 0.6070, 0.4823, 0.9709]],\n",
       "\n",
       "        [[0.0290, 0.2991, 0.0459, 0.1423],\n",
       "         [0.4835, 0.8646, 0.9167, 0.4984],\n",
       "         [0.3553, 0.3081, 0.6591, 0.2996]],\n",
       "\n",
       "        [[0.4994, 0.7420, 0.7081, 0.3272],\n",
       "         [0.4996, 0.9261, 0.1669, 0.5282],\n",
       "         [0.9630, 0.0457, 0.1388, 0.3251]],\n",
       "\n",
       "        [[0.8549, 0.3976, 0.0516, 0.0976],\n",
       "         [0.8523, 0.9672, 0.6805, 0.9804],\n",
       "         [0.2754, 0.9513, 0.6408, 0.1230]],\n",
       "\n",
       "        [[0.2920, 0.5834, 0.3321, 0.5128],\n",
       "         [0.0640, 0.5304, 0.2171, 0.1378],\n",
       "         [0.2665, 0.9712, 0.5564, 0.1474]],\n",
       "\n",
       "        [[0.9144, 0.7837, 0.9734, 0.4233],\n",
       "         [0.3813, 0.8681, 0.4661, 0.5977],\n",
       "         [0.7822, 0.2060, 0.1085, 0.1875]],\n",
       "\n",
       "        [[0.4482, 0.2948, 0.2998, 0.0561],\n",
       "         [0.6080, 0.2972, 0.6882, 0.8944],\n",
       "         [0.0250, 0.4986, 0.3478, 0.8755]],\n",
       "\n",
       "        [[0.3023, 0.8474, 0.0641, 0.3595],\n",
       "         [0.5458, 0.1930, 0.6095, 0.8159],\n",
       "         [0.3309, 0.9403, 0.7367, 0.0224]],\n",
       "\n",
       "        [[0.8470, 0.7957, 0.3602, 0.5516],\n",
       "         [0.2966, 0.5352, 0.4683, 0.9099],\n",
       "         [0.8356, 0.6743, 0.2503, 0.7346]]])"
      ]
     },
     "execution_count": 26,
     "metadata": {},
     "output_type": "execute_result"
    }
   ],
   "source": [
    "random_tensor"
   ]
  },
  {
   "cell_type": "code",
   "execution_count": 27,
   "id": "79a2db95",
   "metadata": {},
   "outputs": [
    {
     "data": {
      "text/plain": [
       "3"
      ]
     },
     "execution_count": 27,
     "metadata": {},
     "output_type": "execute_result"
    }
   ],
   "source": [
    "random_tensor.ndim"
   ]
  },
  {
   "cell_type": "code",
   "execution_count": 28,
   "id": "6b81822f",
   "metadata": {},
   "outputs": [],
   "source": [
    "#Create a random tensor with similar shape to an\n",
    "#image tensor"
   ]
  },
  {
   "cell_type": "code",
   "execution_count": 29,
   "id": "bb656a3a",
   "metadata": {},
   "outputs": [],
   "source": [
    "random_image_tensor = torch.rand(224,224,3)"
   ]
  },
  {
   "cell_type": "code",
   "execution_count": 30,
   "id": "e2e7d5b3",
   "metadata": {},
   "outputs": [
    {
     "data": {
      "text/plain": [
       "tensor([[[0.3389, 0.4274, 0.8111],\n",
       "         [0.2484, 0.3891, 0.4684],\n",
       "         [0.5202, 0.5256, 0.7940],\n",
       "         ...,\n",
       "         [0.3844, 0.7098, 0.6483],\n",
       "         [0.9977, 0.4102, 0.6745],\n",
       "         [0.2396, 0.3574, 0.6224]],\n",
       "\n",
       "        [[0.5985, 0.1967, 0.3875],\n",
       "         [0.6516, 0.1456, 0.2008],\n",
       "         [0.4601, 0.2983, 0.6274],\n",
       "         ...,\n",
       "         [0.9513, 0.2429, 0.6293],\n",
       "         [0.0557, 0.8067, 0.5532],\n",
       "         [0.4593, 0.1697, 0.8571]],\n",
       "\n",
       "        [[0.0757, 0.1158, 0.0310],\n",
       "         [0.8422, 0.4137, 0.5285],\n",
       "         [0.4638, 0.1902, 0.3324],\n",
       "         ...,\n",
       "         [0.5515, 0.7753, 0.9345],\n",
       "         [0.7056, 0.6469, 0.6887],\n",
       "         [0.5908, 0.2275, 0.6101]],\n",
       "\n",
       "        ...,\n",
       "\n",
       "        [[0.7201, 0.1804, 0.9325],\n",
       "         [0.8459, 0.2801, 0.6191],\n",
       "         [0.8738, 0.3270, 0.8356],\n",
       "         ...,\n",
       "         [0.3917, 0.9499, 0.2172],\n",
       "         [0.8895, 0.4781, 0.6266],\n",
       "         [0.2291, 0.2864, 0.6297]],\n",
       "\n",
       "        [[0.4096, 0.5598, 0.0765],\n",
       "         [0.9062, 0.2451, 0.4227],\n",
       "         [0.4126, 0.2229, 0.1503],\n",
       "         ...,\n",
       "         [0.2565, 0.5495, 0.7530],\n",
       "         [0.8481, 0.5165, 0.2032],\n",
       "         [0.6076, 0.4479, 0.3429]],\n",
       "\n",
       "        [[0.3524, 0.6931, 0.5969],\n",
       "         [0.9972, 0.8642, 0.0459],\n",
       "         [0.1715, 0.5969, 0.0746],\n",
       "         ...,\n",
       "         [0.9838, 0.3836, 0.6021],\n",
       "         [0.4213, 0.2963, 0.0245],\n",
       "         [0.6310, 0.9367, 0.2951]]])"
      ]
     },
     "execution_count": 30,
     "metadata": {},
     "output_type": "execute_result"
    }
   ],
   "source": [
    "random_image_tensor "
   ]
  },
  {
   "cell_type": "code",
   "execution_count": 31,
   "id": "4fed53d0",
   "metadata": {},
   "outputs": [
    {
     "data": {
      "text/plain": [
       "3"
      ]
     },
     "execution_count": 31,
     "metadata": {},
     "output_type": "execute_result"
    }
   ],
   "source": [
    "random_image_tensor.ndim"
   ]
  },
  {
   "cell_type": "code",
   "execution_count": 32,
   "id": "b113e470",
   "metadata": {},
   "outputs": [
    {
     "data": {
      "text/plain": [
       "torch.Size([224, 224, 3])"
      ]
     },
     "execution_count": 32,
     "metadata": {},
     "output_type": "execute_result"
    }
   ],
   "source": [
    "random_image_tensor.shape"
   ]
  },
  {
   "cell_type": "code",
   "execution_count": 33,
   "id": "5cf14a19",
   "metadata": {},
   "outputs": [
    {
     "data": {
      "text/plain": [
       "(3, torch.Size([3, 224, 224]))"
      ]
     },
     "execution_count": 33,
     "metadata": {},
     "output_type": "execute_result"
    }
   ],
   "source": [
    "#Example:\n",
    "random_image_tensor_1 = torch.rand(3,224,224)\n",
    "random_image_tensor_1.ndim, random_image_tensor_1.shape"
   ]
  },
  {
   "cell_type": "code",
   "execution_count": 34,
   "id": "ec13bb46",
   "metadata": {},
   "outputs": [
    {
     "data": {
      "text/plain": [
       "tensor([[0., 0., 0., 0.],\n",
       "        [0., 0., 0., 0.],\n",
       "        [0., 0., 0., 0.]])"
      ]
     },
     "execution_count": 34,
     "metadata": {},
     "output_type": "execute_result"
    }
   ],
   "source": [
    "###Creation a tensor of all zeroes\n",
    "###Used at masking\n",
    "zero = torch.zeros(size=(3,4))\n",
    "zero"
   ]
  },
  {
   "cell_type": "code",
   "execution_count": 35,
   "id": "70bb7119",
   "metadata": {},
   "outputs": [
    {
     "data": {
      "text/plain": [
       "tensor([[1., 1., 1., 1.],\n",
       "        [1., 1., 1., 1.],\n",
       "        [1., 1., 1., 1.]])"
      ]
     },
     "execution_count": 35,
     "metadata": {},
     "output_type": "execute_result"
    }
   ],
   "source": [
    "ones = torch.ones(size=(3,4))\n",
    "ones"
   ]
  },
  {
   "cell_type": "code",
   "execution_count": 36,
   "id": "be15164f",
   "metadata": {},
   "outputs": [
    {
     "data": {
      "text/plain": [
       "torch.float32"
      ]
     },
     "execution_count": 36,
     "metadata": {},
     "output_type": "execute_result"
    }
   ],
   "source": [
    "##Tensor Datatype\n",
    "ones.dtype"
   ]
  },
  {
   "cell_type": "code",
   "execution_count": 37,
   "id": "2e1f9ca0",
   "metadata": {},
   "outputs": [],
   "source": [
    "###Creating a Range of Tensors"
   ]
  },
  {
   "cell_type": "code",
   "execution_count": 38,
   "id": "b8fe2fc6",
   "metadata": {},
   "outputs": [
    {
     "data": {
      "text/plain": [
       "tensor([0, 1, 2, 3, 4, 5, 6, 7, 8, 9])"
      ]
     },
     "execution_count": 38,
     "metadata": {},
     "output_type": "execute_result"
    }
   ],
   "source": [
    "torch.arange(0,10)"
   ]
  },
  {
   "cell_type": "code",
   "execution_count": 39,
   "id": "77245327",
   "metadata": {},
   "outputs": [
    {
     "data": {
      "text/plain": [
       "tensor([  0,  77, 154, 231, 308, 385, 462, 539, 616, 693, 770, 847, 924])"
      ]
     },
     "execution_count": 39,
     "metadata": {},
     "output_type": "execute_result"
    }
   ],
   "source": [
    "one_to_ten=torch.arange(start=0, end=1000, step=77)\n",
    "one_to_ten"
   ]
  },
  {
   "cell_type": "code",
   "execution_count": 40,
   "id": "5c108fba",
   "metadata": {},
   "outputs": [],
   "source": [
    "##Creating Tensors like\n",
    "ten_zeros = torch.zeros_like(input=one_to_ten)"
   ]
  },
  {
   "cell_type": "code",
   "execution_count": 41,
   "id": "ebd27e1a",
   "metadata": {},
   "outputs": [
    {
     "data": {
      "text/plain": [
       "tensor([0, 0, 0, 0, 0, 0, 0, 0, 0, 0, 0, 0, 0])"
      ]
     },
     "execution_count": 41,
     "metadata": {},
     "output_type": "execute_result"
    }
   ],
   "source": [
    "ten_zeros"
   ]
  },
  {
   "cell_type": "code",
   "execution_count": 42,
   "id": "e782275c",
   "metadata": {},
   "outputs": [],
   "source": [
    "###Tensor Data type\n",
    "##dtype is about the data type\n",
    "###device like cpu or gpu or cude (device=\"cuda\")\n",
    "###To track the gradient\n",
    "float_32_tensor = torch.tensor([3.0,6.0,9.0], dtype=None,\n",
    "                              device=None,\n",
    "                              requires_grad=False)"
   ]
  },
  {
   "cell_type": "code",
   "execution_count": 43,
   "id": "d0fb12ec",
   "metadata": {},
   "outputs": [
    {
     "data": {
      "text/plain": [
       "tensor([3., 6., 9.])"
      ]
     },
     "execution_count": 43,
     "metadata": {},
     "output_type": "execute_result"
    }
   ],
   "source": [
    "float_32_tensor"
   ]
  },
  {
   "cell_type": "code",
   "execution_count": 44,
   "id": "20cc36f7",
   "metadata": {},
   "outputs": [],
   "source": [
    "##Tensor Operations\n",
    "int_32_tensor = torch.tensor([3,6,9], dtype=torch.long)\n"
   ]
  },
  {
   "cell_type": "code",
   "execution_count": 45,
   "id": "b068cb74",
   "metadata": {},
   "outputs": [
    {
     "data": {
      "text/plain": [
       "tensor([ 9., 36., 81.])"
      ]
     },
     "execution_count": 45,
     "metadata": {},
     "output_type": "execute_result"
    }
   ],
   "source": [
    "int_32_tensor * float_32_tensor"
   ]
  },
  {
   "cell_type": "code",
   "execution_count": 46,
   "id": "2b6d3592",
   "metadata": {},
   "outputs": [
    {
     "data": {
      "text/plain": [
       "tensor([[0.2236, 0.0768, 0.8876, 0.3066],\n",
       "        [0.7093, 0.5504, 0.4202, 0.3857],\n",
       "        [0.8403, 0.4714, 0.4972, 0.7061]])"
      ]
     },
     "execution_count": 46,
     "metadata": {},
     "output_type": "execute_result"
    }
   ],
   "source": [
    "##Creating a Tensor\n",
    "some_tensor = torch.rand(3,4)\n",
    "some_tensor"
   ]
  },
  {
   "cell_type": "code",
   "execution_count": 47,
   "id": "554be3f8",
   "metadata": {},
   "outputs": [
    {
     "name": "stdout",
     "output_type": "stream",
     "text": [
      "The size is: torch.Size([3, 4])\n",
      "the tensor is: torch.Size([3, 4])\n",
      "The tensor device: cpu\n"
     ]
    }
   ],
   "source": [
    "print(f\"The size is: {some_tensor.shape}\")\n",
    "print(f\"the tensor is: {some_tensor.shape}\")\n",
    "print(f\"The tensor device: {some_tensor.device}\")"
   ]
  },
  {
   "cell_type": "code",
   "execution_count": 48,
   "id": "c9e1e9a7",
   "metadata": {},
   "outputs": [],
   "source": [
    "##Tensor Operations like Addition, multiplication and Division\n",
    "tensor = torch.tensor([3,4])"
   ]
  },
  {
   "cell_type": "code",
   "execution_count": 49,
   "id": "fd9b6d89",
   "metadata": {},
   "outputs": [
    {
     "data": {
      "text/plain": [
       "tensor([12, 16])"
      ]
     },
     "execution_count": 49,
     "metadata": {},
     "output_type": "execute_result"
    }
   ],
   "source": [
    "torch.mul(tensor, 4)"
   ]
  },
  {
   "cell_type": "code",
   "execution_count": 50,
   "id": "d5c795a6",
   "metadata": {},
   "outputs": [
    {
     "data": {
      "text/plain": [
       "tensor([7, 8])"
      ]
     },
     "execution_count": 50,
     "metadata": {},
     "output_type": "execute_result"
    }
   ],
   "source": [
    "torch.add(tensor, 4)"
   ]
  },
  {
   "cell_type": "code",
   "execution_count": 51,
   "id": "9e1213d7",
   "metadata": {},
   "outputs": [
    {
     "data": {
      "text/plain": [
       "tensor([-1,  0])"
      ]
     },
     "execution_count": 51,
     "metadata": {},
     "output_type": "execute_result"
    }
   ],
   "source": [
    "torch.sub(tensor, 4)"
   ]
  },
  {
   "cell_type": "code",
   "execution_count": 52,
   "id": "f8b03b4d",
   "metadata": {},
   "outputs": [],
   "source": [
    "##Matrix Multiplication\n",
    "##1. Element Wise Multiplication\n",
    "##2. Matrix Multiplication (Dot Product)"
   ]
  },
  {
   "cell_type": "code",
   "execution_count": 53,
   "id": "265f3b21",
   "metadata": {},
   "outputs": [
    {
     "name": "stdout",
     "output_type": "stream",
     "text": [
      "tensor([1, 2, 3]) * tensor([1, 2, 3])\n",
      "tensor([1, 4, 9])\n"
     ]
    }
   ],
   "source": [
    "tensor = torch.tensor([1,2,3])\n",
    "print(tensor, \"*\", tensor)\n",
    "print(tensor * tensor)"
   ]
  },
  {
   "cell_type": "code",
   "execution_count": 54,
   "id": "7b1fd795",
   "metadata": {},
   "outputs": [
    {
     "name": "stdout",
     "output_type": "stream",
     "text": [
      "CPU times: user 320 µs, sys: 115 µs, total: 435 µs\n",
      "Wall time: 294 µs\n"
     ]
    },
    {
     "data": {
      "text/plain": [
       "tensor(14)"
      ]
     },
     "execution_count": 54,
     "metadata": {},
     "output_type": "execute_result"
    }
   ],
   "source": [
    "%%time\n",
    "torch.matmul(tensor, tensor)"
   ]
  },
  {
   "cell_type": "code",
   "execution_count": 55,
   "id": "9f6a7d5b",
   "metadata": {},
   "outputs": [
    {
     "data": {
      "text/plain": [
       "tensor([ 0, 10, 20, 30, 40, 50, 60, 70, 80, 90])"
      ]
     },
     "execution_count": 55,
     "metadata": {},
     "output_type": "execute_result"
    }
   ],
   "source": [
    "##mean, max, min\n",
    "x = torch.arange(0,100,10)\n",
    "x"
   ]
  },
  {
   "cell_type": "code",
   "execution_count": 56,
   "id": "719b9dd9",
   "metadata": {},
   "outputs": [
    {
     "data": {
      "text/plain": [
       "(tensor(0), tensor(0))"
      ]
     },
     "execution_count": 56,
     "metadata": {},
     "output_type": "execute_result"
    }
   ],
   "source": [
    "torch.min(x), x.min()"
   ]
  },
  {
   "cell_type": "code",
   "execution_count": 57,
   "id": "ffa59730",
   "metadata": {},
   "outputs": [
    {
     "data": {
      "text/plain": [
       "(tensor(90), tensor(90))"
      ]
     },
     "execution_count": 57,
     "metadata": {},
     "output_type": "execute_result"
    }
   ],
   "source": [
    "torch.max(x), x.max()"
   ]
  },
  {
   "cell_type": "code",
   "execution_count": 60,
   "id": "a55eb631",
   "metadata": {},
   "outputs": [
    {
     "data": {
      "text/plain": [
       "tensor(45.)"
      ]
     },
     "execution_count": 60,
     "metadata": {},
     "output_type": "execute_result"
    }
   ],
   "source": [
    "##There are issues with data types have a look\n",
    "torch.mean(x.type(torch.float32))"
   ]
  },
  {
   "cell_type": "code",
   "execution_count": 61,
   "id": "7f039f40",
   "metadata": {},
   "outputs": [
    {
     "data": {
      "text/plain": [
       "tensor(450)"
      ]
     },
     "execution_count": 61,
     "metadata": {},
     "output_type": "execute_result"
    }
   ],
   "source": [
    "torch.sum(x)"
   ]
  },
  {
   "cell_type": "code",
   "execution_count": 62,
   "id": "859a48dd",
   "metadata": {},
   "outputs": [
    {
     "data": {
      "text/plain": [
       "tensor(0)"
      ]
     },
     "execution_count": 62,
     "metadata": {},
     "output_type": "execute_result"
    }
   ],
   "source": [
    "##Find the position in tensor that has the minimum value\n",
    "x.argmin()"
   ]
  },
  {
   "cell_type": "code",
   "execution_count": 63,
   "id": "9209e8fd",
   "metadata": {},
   "outputs": [
    {
     "data": {
      "text/plain": [
       "tensor(0)"
      ]
     },
     "execution_count": 63,
     "metadata": {},
     "output_type": "execute_result"
    }
   ],
   "source": [
    "x[0]"
   ]
  },
  {
   "cell_type": "code",
   "execution_count": 64,
   "id": "dd687f07",
   "metadata": {},
   "outputs": [
    {
     "data": {
      "text/plain": [
       "tensor(9)"
      ]
     },
     "execution_count": 64,
     "metadata": {},
     "output_type": "execute_result"
    }
   ],
   "source": [
    "##Find the position to find the maximum value oin the tensor\n",
    "x.argmax()"
   ]
  },
  {
   "cell_type": "code",
   "execution_count": 65,
   "id": "dacd158a",
   "metadata": {},
   "outputs": [
    {
     "data": {
      "text/plain": [
       "tensor(90)"
      ]
     },
     "execution_count": 65,
     "metadata": {},
     "output_type": "execute_result"
    }
   ],
   "source": [
    "x[9]"
   ]
  },
  {
   "cell_type": "code",
   "execution_count": 66,
   "id": "aebdf515",
   "metadata": {},
   "outputs": [],
   "source": [
    "#Reshaping, Viewing and stacking\n",
    "#Squeeze in Tensorflow - Removes all '1' dimensions froma tensor\n",
    "#Unsqueeze - Add a '1' dimension to a target tensor\n",
    "#Permute -  Return a view of the input with dimensions permuted\n"
   ]
  },
  {
   "cell_type": "code",
   "execution_count": 67,
   "id": "a0745238",
   "metadata": {},
   "outputs": [
    {
     "data": {
      "text/plain": [
       "(tensor([1., 2., 3., 4., 5., 6., 7., 8., 9.]), torch.Size([9]))"
      ]
     },
     "execution_count": 67,
     "metadata": {},
     "output_type": "execute_result"
    }
   ],
   "source": [
    "x = torch.arange(1.,10,)\n",
    "x, x.shape"
   ]
  },
  {
   "cell_type": "code",
   "execution_count": 68,
   "id": "435197b9",
   "metadata": {},
   "outputs": [
    {
     "data": {
      "text/plain": [
       "1"
      ]
     },
     "execution_count": 68,
     "metadata": {},
     "output_type": "execute_result"
    }
   ],
   "source": [
    "x.ndim"
   ]
  },
  {
   "cell_type": "code",
   "execution_count": 69,
   "id": "9297d7f0",
   "metadata": {},
   "outputs": [
    {
     "data": {
      "text/plain": [
       "torch.Size([9])"
      ]
     },
     "execution_count": 69,
     "metadata": {},
     "output_type": "execute_result"
    }
   ],
   "source": [
    "x.shape"
   ]
  },
  {
   "cell_type": "code",
   "execution_count": 70,
   "id": "6a69dc95",
   "metadata": {},
   "outputs": [
    {
     "data": {
      "text/plain": [
       "(tensor([[1., 2., 3., 4., 5., 6., 7., 8., 9.]]), torch.Size([1, 9]))"
      ]
     },
     "execution_count": 70,
     "metadata": {},
     "output_type": "execute_result"
    }
   ],
   "source": [
    "#Use Reshaped\n",
    "x_reshaped = x.reshape(1,9)\n",
    "x_reshaped, x_reshaped.shape"
   ]
  },
  {
   "cell_type": "code",
   "execution_count": 71,
   "id": "de43d67b",
   "metadata": {},
   "outputs": [
    {
     "data": {
      "text/plain": [
       "torch.Size([1, 9])"
      ]
     },
     "execution_count": 71,
     "metadata": {},
     "output_type": "execute_result"
    }
   ],
   "source": [
    "#Change the View\n",
    "z = x.view(1,9)\n",
    "z.shape"
   ]
  },
  {
   "cell_type": "code",
   "execution_count": 72,
   "id": "7e76e781",
   "metadata": {},
   "outputs": [
    {
     "data": {
      "text/plain": [
       "tensor([[1., 2., 3., 4., 5., 6., 7., 8., 9.]])"
      ]
     },
     "execution_count": 72,
     "metadata": {},
     "output_type": "execute_result"
    }
   ],
   "source": [
    "z"
   ]
  },
  {
   "cell_type": "code",
   "execution_count": 73,
   "id": "e58f9c13",
   "metadata": {},
   "outputs": [
    {
     "data": {
      "text/plain": [
       "(tensor([[5., 2., 3., 4., 5., 6., 7., 8., 9.]]),\n",
       " tensor([5., 2., 3., 4., 5., 6., 7., 8., 9.]))"
      ]
     },
     "execution_count": 73,
     "metadata": {},
     "output_type": "execute_result"
    }
   ],
   "source": [
    "#Changing z changes x (because a view of a tensor share the same \n",
    "#memory as the original tensor)\n",
    "z[:,0]=5\n",
    "z,x"
   ]
  },
  {
   "cell_type": "code",
   "execution_count": 74,
   "id": "e04f485b",
   "metadata": {},
   "outputs": [],
   "source": [
    "#Stack tensors\n",
    "x_stacked =torch.stack([x,x,x,x])"
   ]
  },
  {
   "cell_type": "code",
   "execution_count": 75,
   "id": "fe794a01",
   "metadata": {},
   "outputs": [
    {
     "data": {
      "text/plain": [
       "tensor([[5., 2., 3., 4., 5., 6., 7., 8., 9.],\n",
       "        [5., 2., 3., 4., 5., 6., 7., 8., 9.],\n",
       "        [5., 2., 3., 4., 5., 6., 7., 8., 9.],\n",
       "        [5., 2., 3., 4., 5., 6., 7., 8., 9.]])"
      ]
     },
     "execution_count": 75,
     "metadata": {},
     "output_type": "execute_result"
    }
   ],
   "source": [
    "x_stacked"
   ]
  },
  {
   "cell_type": "code",
   "execution_count": 77,
   "id": "8e6c81cd",
   "metadata": {},
   "outputs": [
    {
     "data": {
      "text/plain": [
       "torch.Size([4, 9])"
      ]
     },
     "execution_count": 77,
     "metadata": {},
     "output_type": "execute_result"
    }
   ],
   "source": [
    "x_stacked.shape"
   ]
  },
  {
   "cell_type": "code",
   "execution_count": 78,
   "id": "1eb4f2e3",
   "metadata": {},
   "outputs": [],
   "source": [
    "#Practise\n",
    "tensor_example = torch.rand(3,224,224)"
   ]
  },
  {
   "cell_type": "code",
   "execution_count": 79,
   "id": "8cb62778",
   "metadata": {},
   "outputs": [
    {
     "data": {
      "text/plain": [
       "tensor([[[0.5133, 0.9434, 0.8011,  ..., 0.2107, 0.2525, 0.9600],\n",
       "         [0.2941, 0.0382, 0.8564,  ..., 0.0259, 0.1054, 0.4983],\n",
       "         [0.9693, 0.9313, 0.6872,  ..., 0.4580, 0.0985, 0.0490],\n",
       "         ...,\n",
       "         [0.8072, 0.2926, 0.8404,  ..., 0.8619, 0.4872, 0.6790],\n",
       "         [0.3826, 0.6594, 0.8574,  ..., 0.7836, 0.1797, 0.1635],\n",
       "         [0.6971, 0.3613, 0.6483,  ..., 0.3519, 0.0650, 0.1236]],\n",
       "\n",
       "        [[0.6766, 0.6241, 0.2022,  ..., 0.8292, 0.2776, 0.3623],\n",
       "         [0.2039, 0.9925, 0.7799,  ..., 0.8845, 0.4137, 0.0503],\n",
       "         [0.5910, 0.3087, 0.5411,  ..., 0.4249, 0.1952, 0.5153],\n",
       "         ...,\n",
       "         [0.0014, 0.0341, 0.3777,  ..., 0.9071, 0.9048, 0.4730],\n",
       "         [0.3156, 0.9347, 0.3494,  ..., 0.5360, 0.0975, 0.2222],\n",
       "         [0.7807, 0.0882, 0.9814,  ..., 0.8428, 0.7918, 0.7118]],\n",
       "\n",
       "        [[0.9015, 0.1595, 0.3862,  ..., 0.4999, 0.9316, 0.0670],\n",
       "         [0.9887, 0.8035, 0.8513,  ..., 0.8294, 0.3684, 0.8259],\n",
       "         [0.4086, 0.8513, 0.7783,  ..., 0.0761, 0.9835, 0.2330],\n",
       "         ...,\n",
       "         [0.8421, 0.8760, 0.9347,  ..., 0.0576, 0.6693, 0.1034],\n",
       "         [0.6434, 0.2407, 0.1460,  ..., 0.9946, 0.0443, 0.5201],\n",
       "         [0.5156, 0.9983, 0.4153,  ..., 0.2965, 0.2620, 0.9464]]])"
      ]
     },
     "execution_count": 79,
     "metadata": {},
     "output_type": "execute_result"
    }
   ],
   "source": [
    "tensor_example"
   ]
  },
  {
   "cell_type": "code",
   "execution_count": null,
   "id": "156a7482",
   "metadata": {},
   "outputs": [],
   "source": []
  }
 ],
 "metadata": {
  "kernelspec": {
   "display_name": "Python 3 (ipykernel)",
   "language": "python",
   "name": "python3"
  },
  "language_info": {
   "codemirror_mode": {
    "name": "ipython",
    "version": 3
   },
   "file_extension": ".py",
   "mimetype": "text/x-python",
   "name": "python",
   "nbconvert_exporter": "python",
   "pygments_lexer": "ipython3",
   "version": "3.10.10"
  }
 },
 "nbformat": 4,
 "nbformat_minor": 5
}
